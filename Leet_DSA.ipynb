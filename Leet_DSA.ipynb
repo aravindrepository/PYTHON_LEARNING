{
  "nbformat": 4,
  "nbformat_minor": 0,
  "metadata": {
    "colab": {
      "provenance": [],
      "authorship_tag": "ABX9TyMVb4VjM3Dp9rcGD/YbEqNu",
      "include_colab_link": true
    },
    "kernelspec": {
      "name": "python3",
      "display_name": "Python 3"
    },
    "language_info": {
      "name": "python"
    }
  },
  "cells": [
    {
      "cell_type": "markdown",
      "metadata": {
        "id": "view-in-github",
        "colab_type": "text"
      },
      "source": [
        "<a href=\"https://colab.research.google.com/github/aravindrepository/PYTHON_learning/blob/main/Leet_DSA.ipynb\" target=\"_parent\"><img src=\"https://colab.research.google.com/assets/colab-badge.svg\" alt=\"Open In Colab\"/></a>"
      ]
    },
    {
      "cell_type": "markdown",
      "source": [
        "###The Two Sum problem asks us to find two numbers in an array that sum up to a given target value. We need to return the indices of these two numbers."
      ],
      "metadata": {
        "id": "f_1jEMOqyUYm"
      }
    },
    {
      "cell_type": "code",
      "execution_count": 28,
      "metadata": {
        "colab": {
          "base_uri": "https://localhost:8080/"
        },
        "id": "k6s7MjmWyO64",
        "outputId": "ebce1ef1-4ecd-4064-d3b3-e6bc06d5b5ff"
      },
      "outputs": [
        {
          "output_type": "stream",
          "name": "stdout",
          "text": [
            "not found\n"
          ]
        }
      ],
      "source": [
        "def findSum(arr,tar):\n",
        "  n=len(arr)\n",
        "  for i in range(n-1):\n",
        "    for k in range(i+1,n):\n",
        "      if arr[i]+arr[k]==tar:\n",
        "        return [i,k]\n",
        "  return \"not found\"\n",
        "arr=[1,2,3,4]\n",
        "tar=5\n",
        "print(findSum(arr,tar))\n",
        "#simple"
      ]
    },
    {
      "cell_type": "code",
      "source": [
        "#simple version\n",
        "ar=[1,2,3,4]\n",
        "a=6\n",
        "for i in range(len(ar)):\n",
        "    for j in range(i+1,len(ar)):\n",
        "        if ar[i]+ar[j]==a:\n",
        "            print([i,j])\n",
        ""
      ],
      "metadata": {
        "colab": {
          "base_uri": "https://localhost:8080/"
        },
        "id": "9lhuY-Ru_5c4",
        "outputId": "e2e4c8d1-455d-404c-8156-e86eb66532ed"
      },
      "execution_count": 34,
      "outputs": [
        {
          "output_type": "stream",
          "name": "stdout",
          "text": [
            "[1, 3]\n"
          ]
        }
      ]
    },
    {
      "cell_type": "markdown",
      "source": [
        "##program for two lists where list1 contains names and list2 contains the first letters of each names in the first list return true if all found else false return false if list2 length is not equal to list2"
      ],
      "metadata": {
        "id": "lYRp4ssE7APb"
      }
    },
    {
      "cell_type": "code",
      "source": [
        "a=[\"na\",\"ga\",\"sa\"]\n",
        "ai=['n','g','a']\n",
        "for i in range(len(a)):\n",
        "    if a[i][0]==ai[i]:\n",
        "        print(True)\n",
        "    else:\n",
        "        print(False)"
      ],
      "metadata": {
        "colab": {
          "base_uri": "https://localhost:8080/"
        },
        "id": "VQVGaD0v7cE3",
        "outputId": "7b7c25b6-b810-4d13-c3fa-b1c9e9f2b0a4"
      },
      "execution_count": null,
      "outputs": [
        {
          "output_type": "stream",
          "name": "stdout",
          "text": [
            "True\n",
            "True\n",
            "False\n"
          ]
        }
      ]
    }
  ]
}