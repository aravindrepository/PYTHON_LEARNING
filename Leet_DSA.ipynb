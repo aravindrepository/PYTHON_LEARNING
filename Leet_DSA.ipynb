{
  "nbformat": 4,
  "nbformat_minor": 0,
  "metadata": {
    "colab": {
      "provenance": [],
      "authorship_tag": "ABX9TyNNnv9t63y2fB804Y0gdDTc",
      "include_colab_link": true
    },
    "kernelspec": {
      "name": "python3",
      "display_name": "Python 3"
    },
    "language_info": {
      "name": "python"
    }
  },
  "cells": [
    {
      "cell_type": "markdown",
      "metadata": {
        "id": "view-in-github",
        "colab_type": "text"
      },
      "source": [
        "<a href=\"https://colab.research.google.com/github/aravindrepository/PYTHON_learning/blob/main/Leet_DSA.ipynb\" target=\"_parent\"><img src=\"https://colab.research.google.com/assets/colab-badge.svg\" alt=\"Open In Colab\"/></a>"
      ]
    },
    {
      "cell_type": "markdown",
      "source": [
        "###The Two Sum problem asks us to find two numbers in an array that sum up to a given target value. We need to return the indices of these two numbers."
      ],
      "metadata": {
        "id": "f_1jEMOqyUYm"
      }
    },
    {
      "cell_type": "code",
      "execution_count": 7,
      "metadata": {
        "colab": {
          "base_uri": "https://localhost:8080/"
        },
        "id": "k6s7MjmWyO64",
        "outputId": "14c358ac-36f5-452f-fd53-bb6a64d04104"
      },
      "outputs": [
        {
          "output_type": "stream",
          "name": "stdout",
          "text": [
            "[0, 2]\n"
          ]
        }
      ],
      "source": [
        "def findSum(arr,tar):\n",
        "  n=len(arr)\n",
        "  for i in range(n-1):\n",
        "    for k in range(i+1,n):\n",
        "      if arr[i]+arr[k]==tar:\n",
        "        return [i,k]\n",
        "  return \"not found\"\n",
        "arr=[1,2,3]\n",
        "tar=4\n",
        "print(findSum(arr,tar))\n"
      ]
    }
  ]
}