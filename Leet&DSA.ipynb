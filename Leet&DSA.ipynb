{
  "nbformat": 4,
  "nbformat_minor": 0,
  "metadata": {
    "colab": {
      "provenance": [],
      "authorship_tag": "ABX9TyMYNjdEapKm2p17OSx6lEOV",
      "include_colab_link": true
    },
    "kernelspec": {
      "name": "python3",
      "display_name": "Python 3"
    },
    "language_info": {
      "name": "python"
    }
  },
  "cells": [
    {
      "cell_type": "markdown",
      "metadata": {
        "id": "view-in-github",
        "colab_type": "text"
      },
      "source": [
        "<a href=\"https://colab.research.google.com/github/aravindrepository/PYTHON_learning/blob/main/Leet%26DSA.ipynb\" target=\"_parent\"><img src=\"https://colab.research.google.com/assets/colab-badge.svg\" alt=\"Open In Colab\"/></a>"
      ]
    },
    {
      "cell_type": "markdown",
      "source": [
        "###The Two Sum problem asks us to find two numbers in an array that sum up to a given target value. We need to return the indices of these two numbers."
      ],
      "metadata": {
        "id": "f_1jEMOqyUYm"
      }
    },
    {
      "cell_type": "code",
      "execution_count": null,
      "metadata": {
        "colab": {
          "base_uri": "https://localhost:8080/"
        },
        "id": "k6s7MjmWyO64",
        "outputId": "ebce1ef1-4ecd-4064-d3b3-e6bc06d5b5ff"
      },
      "outputs": [
        {
          "output_type": "stream",
          "name": "stdout",
          "text": [
            "not found\n"
          ]
        }
      ],
      "source": [
        "def findSum(arr,tar):\n",
        "  n=len(arr)\n",
        "  for i in range(n-1):\n",
        "    for k in range(i+1,n):\n",
        "      if arr[i]+arr[k]==tar:\n",
        "        return [i,k]\n",
        "  return \"not found\"\n",
        "arr=[1,2,3,4]\n",
        "tar=5\n",
        "print(findSum(arr,tar))\n",
        "#simple"
      ]
    },
    {
      "cell_type": "code",
      "source": [
        "#simple version\n",
        "ar=[1,2,3,4]\n",
        "a=6\n",
        "for i in range(len(ar)):\n",
        "    for j in range(i+1,len(ar)):\n",
        "        if ar[i]+ar[j]==a:\n",
        "            print([i,j])\n"
      ],
      "metadata": {
        "colab": {
          "base_uri": "https://localhost:8080/"
        },
        "id": "9lhuY-Ru_5c4",
        "outputId": "e2e4c8d1-455d-404c-8156-e86eb66532ed"
      },
      "execution_count": null,
      "outputs": [
        {
          "output_type": "stream",
          "name": "stdout",
          "text": [
            "[1, 3]\n"
          ]
        }
      ]
    },
    {
      "cell_type": "markdown",
      "source": [
        "##program for two lists where list1 contains names and list2 contains the first letters of each names in the first list return true if all found else false return false if list2 length is not equal to list2"
      ],
      "metadata": {
        "id": "lYRp4ssE7APb"
      }
    },
    {
      "cell_type": "code",
      "source": [
        "a=[\"na\",\"ga\",\"sa\"]\n",
        "ai=['n','g','a']\n",
        "for i in range(len(a)):\n",
        "    if a[i][0]==ai[i]:\n",
        "        print(True)\n",
        "    else:\n",
        "        print(False)"
      ],
      "metadata": {
        "colab": {
          "base_uri": "https://localhost:8080/"
        },
        "id": "VQVGaD0v7cE3",
        "outputId": "7b7c25b6-b810-4d13-c3fa-b1c9e9f2b0a4"
      },
      "execution_count": null,
      "outputs": [
        {
          "output_type": "stream",
          "name": "stdout",
          "text": [
            "True\n",
            "True\n",
            "False\n"
          ]
        }
      ]
    },
    {
      "cell_type": "markdown",
      "source": [
        "###Linear search"
      ],
      "metadata": {
        "id": "A-nzEL9bnQ6P"
      }
    },
    {
      "cell_type": "code",
      "source": [
        "# without built in func\n",
        "def linea(arr,tar):\n",
        "  for i in range(len(arr)):\n",
        "    if arr[i]==tar:\n",
        "      return i\n",
        "  return 0\n",
        "arr=[1,4,5,6,7,8]\n",
        "tar=5\n",
        "if linea(arr,tar)==0:\n",
        "  print(\"cant find\")\n",
        "else:\n",
        "  print(linea(arr,tar))"
      ],
      "metadata": {
        "colab": {
          "base_uri": "https://localhost:8080/"
        },
        "id": "XllZqwT0nQOf",
        "outputId": "74d41dff-17e5-4a65-c2e8-c7cfc8b2d9b8"
      },
      "execution_count": null,
      "outputs": [
        {
          "output_type": "stream",
          "name": "stdout",
          "text": [
            "2\n"
          ]
        }
      ]
    },
    {
      "cell_type": "markdown",
      "source": [
        "###Binary Search"
      ],
      "metadata": {
        "id": "F2mdr7QSneGi"
      }
    },
    {
      "cell_type": "code",
      "source": [
        "arr=[1,2,3,4,5,6]\n",
        "n=len(arr)\n",
        "tar=6\n",
        "if tar not in arr:\n",
        "  print(\"not in array\")\n",
        "if n%2==0:\n",
        "    mid=n//2-1\n",
        "else:\n",
        "    mid=n//2\n",
        "me=arr[mid]\n",
        "#print(me)\n",
        "if me==tar:\n",
        "    print(\"found at {}\".format(me))\n",
        "if tar<me:\n",
        "    for i in range(me):\n",
        "        if arr[i]==tar:\n",
        "            print(\"found at {}\".format(i))\n",
        "if tar>me:\n",
        "    for j in range(me,n+1):\n",
        "        if j==tar:\n",
        "            print(\"found at {}\".format(j-1))\n",
        "            break\n",
        "    else:\n",
        "        print(\"not found in the array\")"
      ],
      "metadata": {
        "colab": {
          "base_uri": "https://localhost:8080/"
        },
        "id": "zf41peSInh8R",
        "outputId": "76ab6ac7-a9ac-4544-e411-f115db03c6bb"
      },
      "execution_count": null,
      "outputs": [
        {
          "output_type": "stream",
          "name": "stdout",
          "text": [
            "found at 5\n"
          ]
        }
      ]
    },
    {
      "cell_type": "markdown",
      "source": [
        "#another method"
      ],
      "metadata": {
        "id": "qNXZCjQR8kK6"
      }
    },
    {
      "cell_type": "code",
      "source": [
        "arr=[1,2,3,4,5,6,7]\n",
        "tar=7\n",
        "n=len(arr)\n",
        "if n%2==0:\n",
        "  mid= n//2-1\n",
        "else:\n",
        "  mid=n//2\n",
        "me=arr[mid]\n",
        "if me == tar:\n",
        "  print(\"found at{}\".format(me))\n",
        "if me<tar:\n",
        "  for i in range(mid,n+1):\n",
        "    found=False\n",
        "    if arr[i]==tar:\n",
        "      print(\"found at {}\".format(i))\n",
        "      found=True\n",
        "      break\n",
        "      if not found:\n",
        "        print(\"not found in array\")\n",
        "elif me>tar:\n",
        "  for j in range(me):\n",
        "    found=False\n",
        "    if arr[j]==tar:\n",
        "      print(\"foud at {}\".format(j))\n",
        "      found=True\n",
        "      if not found:\n",
        "        print(\"not found in array\")\n",
        "      break\n",
        "if not found:\n",
        "  print(\"not found in array\")\n",
        "\n"
      ],
      "metadata": {
        "colab": {
          "base_uri": "https://localhost:8080/"
        },
        "id": "aJs_Rhx68zHm",
        "outputId": "a37f2614-8070-486e-942a-b1ca381f6ad8"
      },
      "execution_count": null,
      "outputs": [
        {
          "output_type": "stream",
          "name": "stdout",
          "text": [
            "found at 6\n"
          ]
        }
      ]
    },
    {
      "cell_type": "markdown",
      "source": [
        "###Bubble Sort"
      ],
      "metadata": {
        "id": "UWc6EWT9npy6"
      }
    },
    {
      "cell_type": "code",
      "source": [
        "def bubble(arr):\n",
        "  n=len(arr)\n",
        "  for i in range(n):\n",
        "    for j in range(0,n-i-1):\n",
        "      if arr[j]>arr[j+1]:\n",
        "        arr[j],arr[j+1]=arr[j+1],arr[j]\n",
        "  return arr\n",
        "arr=[43,76,34,98,35,9]\n",
        "print(bubble(arr))\n",
        "\n",
        "\n"
      ],
      "metadata": {
        "id": "4sbAk2N0nrtL",
        "outputId": "278b8f90-89dd-4ede-fc23-32f1b91afa71",
        "colab": {
          "base_uri": "https://localhost:8080/"
        }
      },
      "execution_count": null,
      "outputs": [
        {
          "output_type": "stream",
          "name": "stdout",
          "text": [
            "[9, 34, 35, 43, 76, 98]\n"
          ]
        }
      ]
    },
    {
      "cell_type": "markdown",
      "source": [
        "###Missing element in sorted array"
      ],
      "metadata": {
        "id": "rOAs_l_YoN1f"
      }
    },
    {
      "cell_type": "code",
      "source": [
        "def missorted(arr):\n",
        "  n=len(arr)+1\n",
        "  en=n*(n+1)//2\n",
        "  tn=sum(arr)\n",
        "  return en-tn\n",
        "arr=[1,2,3,5]\n",
        "print(missorted(arr))"
      ],
      "metadata": {
        "colab": {
          "base_uri": "https://localhost:8080/"
        },
        "id": "whMgjgLPoRLP",
        "outputId": "d7339312-27b4-4d6d-b493-8730c7a54f1e"
      },
      "execution_count": null,
      "outputs": [
        {
          "output_type": "stream",
          "name": "stdout",
          "text": [
            "15\n",
            "4\n"
          ]
        }
      ]
    },
    {
      "cell_type": "markdown",
      "source": [],
      "metadata": {
        "id": "0Mp6RJiRtccC"
      }
    },
    {
      "cell_type": "markdown",
      "source": [
        "###Missing element in unsorted array"
      ],
      "metadata": {
        "id": "o6Mo-JostdlR"
      }
    },
    {
      "cell_type": "code",
      "source": [
        "def unsorted(arr):\n",
        "  n=len(arr)\n",
        "  em_arr=[-1]*(n+1)\n",
        "  for nu in arr:\n",
        "    em_arr[nu]=nu\n",
        "  for i in range(len(em_arr)):\n",
        "    if em_arr[i]==-1:\n",
        "      return i\n",
        "arr=[3,0,2,1,5]\n",
        "print(unsorted(arr))"
      ],
      "metadata": {
        "colab": {
          "base_uri": "https://localhost:8080/"
        },
        "id": "7Q7I3iy_tf2j",
        "outputId": "88836cad-ab3a-4b6c-8984-e6acb4c7d86d"
      },
      "execution_count": null,
      "outputs": [
        {
          "output_type": "stream",
          "name": "stdout",
          "text": [
            "4\n"
          ]
        }
      ]
    },
    {
      "cell_type": "markdown",
      "source": [
        "###Valid parenthesis"
      ],
      "metadata": {
        "id": "w46ORE3y0MJE"
      }
    },
    {
      "cell_type": "code",
      "source": [
        "def stack(s):\n",
        "  sta=[]\n",
        "  m = {\")\":\"(\", \"}\":\"{\", \"]\":\"[\"}\n",
        "  for i in s:\n",
        "    if i  in m.values():\n",
        "      sta.append(i)\n",
        "    elif i  in m.keys():\n",
        "      if not sta or m[i]!=sta.pop():\n",
        "        return False\n",
        "  return not sta\n",
        "s=\"[{}]\"\n",
        "print(stack(s))"
      ],
      "metadata": {
        "colab": {
          "base_uri": "https://localhost:8080/"
        },
        "id": "Me7yrpxG0RuU",
        "outputId": "b249ddb6-6efc-4726-9947-946287a30833"
      },
      "execution_count": null,
      "outputs": [
        {
          "output_type": "stream",
          "name": "stdout",
          "text": [
            "True\n"
          ]
        }
      ]
    },
    {
      "cell_type": "markdown",
      "source": [
        "###Find the Index of the First Occurrence in a String\n",
        "Given two strings needle and haystack, return the index of the first occurrence of needle in haystack, or -1 if needle is not part of haystack."
      ],
      "metadata": {
        "id": "oWsPJ_K5v0uQ"
      }
    },
    {
      "cell_type": "code",
      "source": [
        "# s='haystack'\n",
        "# n='hay'\n",
        "# for i in range(len(s)):\n",
        "#   if s[i:i+len(n)]==n:\n",
        "#     print(\"True\")\n",
        "#   else:\n",
        "#     print(\"False\")\n",
        "def inNeedle(s,st):\n",
        "  if len(s)<len(st):\n",
        "    return False\n",
        "  for i in range(len(s)):\n",
        "    if s[i:i+len(st)]==st:\n",
        "      return i,True\n",
        "    else:\n",
        "      return False\n",
        "s='hellohe'\n",
        "st='he'\n",
        "print(inNeedle(s,st))"
      ],
      "metadata": {
        "colab": {
          "base_uri": "https://localhost:8080/"
        },
        "id": "bT36SQJmxZ8y",
        "outputId": "9ca3bf88-bd38-4c6c-f5c1-1d7f56201275"
      },
      "execution_count": null,
      "outputs": [
        {
          "output_type": "stream",
          "name": "stdout",
          "text": [
            "(0, True)\n"
          ]
        }
      ]
    },
    {
      "cell_type": "markdown",
      "source": [
        "simple / without index"
      ],
      "metadata": {
        "id": "jwKd1wHOxamC"
      }
    },
    {
      "cell_type": "code",
      "source": [
        "s=\"hellohes\"\n",
        "r=\"he\"\n",
        "if r in s:\n",
        "  print(True)\n",
        "else:\n",
        "  print(False)"
      ],
      "metadata": {
        "colab": {
          "base_uri": "https://localhost:8080/"
        },
        "id": "Qk-YCyEbv5vZ",
        "outputId": "4e319df7-8cca-4161-cf74-fa140a53817f"
      },
      "execution_count": null,
      "outputs": [
        {
          "output_type": "stream",
          "name": "stdout",
          "text": [
            "True\n"
          ]
        }
      ]
    },
    {
      "cell_type": "markdown",
      "source": [
        "###Selection sort"
      ],
      "metadata": {
        "id": "HUR3-_IL7V8l"
      }
    },
    {
      "cell_type": "code",
      "source": [
        "def SelectionSort(arr):\n",
        "  for i in range(len(arr)-1):\n",
        "    min=i\n",
        "    #0\n",
        "    # print(arr[i])\n",
        "    for j in range(i+1,len(arr)):\n",
        "      #1,2j,3\n",
        "      if arr[j]<arr[min]:\n",
        "        min=j\n",
        "    arr[min],arr[i]=arr[i],arr[min]\n",
        "  return arr\n",
        "arr=[35,7,0,-1,1,2,5,7]\n",
        "print(SelectionSort(arr))"
      ],
      "metadata": {
        "colab": {
          "base_uri": "https://localhost:8080/"
        },
        "id": "zF4spE5x7X7G",
        "outputId": "6c3d38d7-cbec-464c-bf70-d8905c137cc6"
      },
      "execution_count": null,
      "outputs": [
        {
          "output_type": "stream",
          "name": "stdout",
          "text": [
            "[-1, 0, 1, 2, 5, 7, 7, 35]\n"
          ]
        }
      ]
    },
    {
      "cell_type": "markdown",
      "source": [
        "###Insertion sort"
      ],
      "metadata": {
        "id": "MippGt64Cmf0"
      }
    },
    {
      "cell_type": "code",
      "source": [
        "def InsertSort(arr):\n",
        "  n=len(arr)\n",
        "  if n<=1:\n",
        "    return False\n",
        "  for i in range(1,n):\n",
        "    key=arr[i]\n",
        "    j=i-1\n",
        "    while j>=0 and key < arr[j]:\n",
        "        arr[j+1]=arr[j]\n",
        "        j-=1\n",
        "    arr[j+1]=key\n",
        "  return arr\n",
        "arr=[3,5,7,1,2,5,0,-1,7]\n",
        "print(InsertSort(arr))"
      ],
      "metadata": {
        "colab": {
          "base_uri": "https://localhost:8080/"
        },
        "id": "XOoRslOeCubt",
        "outputId": "dad87376-35b0-47bc-d8cd-868a93941dbc"
      },
      "execution_count": null,
      "outputs": [
        {
          "output_type": "stream",
          "name": "stdout",
          "text": [
            "[-1, 0, 1, 2, 3, 5, 5, 7, 7]\n"
          ]
        }
      ]
    },
    {
      "cell_type": "markdown",
      "source": [
        "###Longest Consecutive Sequence\n",
        "Given an unsorted array of integers nums, return the length of the longest consecutive elements sequence.\n",
        "\n",
        "You must write an algorithm that runs in O(n) time.\n",
        "[1,2,3,4]==4\n"
      ],
      "metadata": {
        "id": "wA7-QRbqrpoU"
      }
    },
    {
      "cell_type": "code",
      "source": [
        "def LongestSeq(arr):\n",
        "  n=set(arr)\n",
        "  longest=0\n",
        "  for i in arr:\n",
        "    if i-1 not in n:\n",
        "      length=1\n",
        "      while i+length in n:\n",
        "        length+=1\n",
        "      longest=max(longest,length)\n",
        "  return longest\n",
        "\n",
        "\n",
        "\n",
        "\n",
        "\n",
        "\n",
        "arr=[100,200,1,3,4,2]\n",
        "print(LongestSeq(arr))"
      ],
      "metadata": {
        "colab": {
          "base_uri": "https://localhost:8080/"
        },
        "id": "JN9ILm4trsob",
        "outputId": "0e5f1ac4-ff9a-4aae-87b3-63050879c722"
      },
      "execution_count": null,
      "outputs": [
        {
          "output_type": "stream",
          "name": "stdout",
          "text": [
            "4\n"
          ]
        }
      ]
    },
    {
      "cell_type": "markdown",
      "source": [
        "###ADD 1 to last digit"
      ],
      "metadata": {
        "id": "iRLuu0l5Co1a"
      }
    },
    {
      "cell_type": "code",
      "source": [
        "class Solution:\n",
        "    def plusOne(self, digits):\n",
        "        n = len(digits)\n",
        "\n",
        "        # Traverse the list from the end to the beginning\n",
        "        for i in range(n - 1, -1, -1):\n",
        "            if digits[i] < 9:\n",
        "                digits[i] += 1\n",
        "                return digits\n",
        "            digits[i] = 0\n",
        "\n",
        "        # If we exited the loop, it means we had a carry all the way through\n",
        "        return [1] + digits\n",
        "\n",
        "# Example usage:\n",
        "solution = Solution()\n",
        "digits = [9, 9, 9]\n",
        "print(solution.plusOne(digits))"
      ],
      "metadata": {
        "id": "qLS7zLgMCsWq"
      },
      "execution_count": null,
      "outputs": []
    },
    {
      "cell_type": "markdown",
      "source": [
        "###Linked Lists"
      ],
      "metadata": {
        "id": "oIZ5mIoycEsX"
      }
    },
    {
      "cell_type": "code",
      "source": [
        "class Node:\n",
        "  def __init__(self,data):\n",
        "    self.data=data\n",
        "    self.next=None\n",
        "\n",
        "class linkedList:\n",
        "  def __init__(self):\n",
        "    self.head=None\n",
        "\n",
        "\n",
        "  def Insert(self,lData):\n",
        "    newNode=Node(lData)\n",
        "    newNode.next=self.head\n",
        "    self.head=newNode\n",
        "\n",
        "  def Print(self):\n",
        "    t=self.head\n",
        "    while t:\n",
        "      print(t.data,end=\" \")\n",
        "      t=t.next\n",
        "    print()\n",
        "\n",
        "  def insertEnd(self,edata):\n",
        "    lNode=Node(edata)\n",
        "    if self.head is None:\n",
        "      self.head=lNode\n",
        "      return\n",
        "    last=self.head\n",
        "    while last.next:\n",
        "      last=last.next\n",
        "    last.next=lNode\n",
        "\n",
        "  def removeHead(self):\n",
        "    if self.head is None:\n",
        "      print(\"no data\")\n",
        "    self.head=self.head.next\n",
        "\n",
        "  def removeLast(self):\n",
        "    if self.head is None:\n",
        "      print(\"no data\")\n",
        "    if self.head.next is None:\n",
        "      self.head=None\n",
        "      return\n",
        "    t=self.head\n",
        "    while t.next.next:\n",
        "      t=t.next\n",
        "    t.next=None\n",
        "\n",
        "  def Search(self,value):\n",
        "    cur=self.head\n",
        "    pos=0\n",
        "    while cur:\n",
        "      if cur.data==value:\n",
        "        print(\"{}  is found at {}\".format(value,pos))\n",
        "      cur=cur.next\n",
        "      pos+=1\n",
        "    print(\"not found in list\")\n",
        "if __name__=='__main__':\n",
        "  ll=linkedList()\n",
        "  ll.Insert(\"a\")\n",
        "  ll.Insert(\"b\")\n",
        "  ll.Insert(\"c\")\n",
        "  ll.Insert(\"d\")\n",
        "  ll.Insert(\"e\")\n",
        "  ll.insertEnd(2)\n",
        "  ll.Print()\n",
        "  ll.removeHead()\n",
        "  ll.Print()\n",
        "  ll.removeLast()\n",
        "  ll.Print()\n",
        "  ll.Search('a')\n",
        "\n",
        "\n",
        "\n",
        "\n"
      ],
      "metadata": {
        "colab": {
          "base_uri": "https://localhost:8080/"
        },
        "id": "iTJKPMDacGix",
        "outputId": "bcc46cd5-0f4a-4be1-ccf4-0d100c83962f"
      },
      "execution_count": null,
      "outputs": [
        {
          "output_type": "stream",
          "name": "stdout",
          "text": [
            "e d c b a 2 \n",
            "d c b a 2 \n",
            "d c b a \n",
            "a  is found at 3\n",
            "not found in list\n"
          ]
        }
      ]
    },
    {
      "cell_type": "markdown",
      "source": [
        "###Reversed LinkedList"
      ],
      "metadata": {
        "id": "0cX2c-IhU4BJ"
      }
    },
    {
      "cell_type": "code",
      "source": [
        "#creating a linked list\n",
        "class Node:\n",
        "  def __init__(self,data):\n",
        "    self.data=data\n",
        "    self.next=None\n",
        "class LinkedList:\n",
        "  def __init__(self):\n",
        "    self.head=None\n",
        "  def insert(self,ldata):\n",
        "    nn=Node(ldata)\n",
        "    nn.next=self.head\n",
        "    self.head=nn\n",
        "  def Print(self):\n",
        "    t=self.head\n",
        "    while t:\n",
        "      print(t.data,end=\" \")\n",
        "      t=t.next\n",
        "  def reverseList(self):\n",
        "        new_list = None\n",
        "        current = self.head\n",
        "\n",
        "        while current:\n",
        "            next_node = current.next\n",
        "            current.next = new_list\n",
        "            new_list = current\n",
        "            current = next_node\n",
        "        while new_list:\n",
        "          print(new_list.data,end=\" \")\n",
        "          new_list=new_list.next\n",
        "\n",
        "\n",
        "\n",
        "\n",
        "\n",
        "if __name__=='__main__':\n",
        "  l=LinkedList()\n",
        "  l.insert(1)\n",
        "  l.insert(2)\n",
        "  l.insert(3)\n",
        "  # l.Print()\n",
        "  l.reverseList()\n"
      ],
      "metadata": {
        "colab": {
          "base_uri": "https://localhost:8080/"
        },
        "id": "jz1kCv1IU3b6",
        "outputId": "49058e5b-8bbe-4876-98a6-4ea0270bc2ad"
      },
      "execution_count": null,
      "outputs": [
        {
          "output_type": "stream",
          "name": "stdout",
          "text": [
            "1 2 3 "
          ]
        }
      ]
    },
    {
      "cell_type": "markdown",
      "source": [
        "###Best Time to Buy and Sell Stock\n",
        "Input: prices = [7,1,5,3,6,4]\n",
        "Output: 5\n",
        "Explanation: Buy on day 2 (price = 1) and sell on day 5 (price = 6), profit = 6-1 = 5.\n",
        "Note that buying on day 2 and selling on day 1 is not allowed because you must buy before you sell."
      ],
      "metadata": {
        "id": "fctIXWFvtVpn"
      }
    },
    {
      "cell_type": "code",
      "source": [
        "def Stock(prices):\n",
        "  buy=prices[0]\n",
        "  profit=0\n",
        "  for i in range(1,len(prices)):\n",
        "    if prices[i]<buy:\n",
        "      buy=prices[i]\n",
        "    elif prices[i]-buy>profit:\n",
        "      profit=prices[i]-buy\n",
        "  return profit\n",
        "prices=[7,6,4,3,5,2]#return profit by buying day - selling day\n",
        "print(Stock(prices))\n",
        "arr=[7,6,5,4,3]\n",
        "print(Stock(arr))"
      ],
      "metadata": {
        "colab": {
          "base_uri": "https://localhost:8080/"
        },
        "id": "jJb8OnbHtYrw",
        "outputId": "8b5dabe3-fdd1-4b2a-f48e-8b4a7807a467"
      },
      "execution_count": null,
      "outputs": [
        {
          "output_type": "stream",
          "name": "stdout",
          "text": [
            "2\n",
            "0\n"
          ]
        }
      ]
    },
    {
      "cell_type": "markdown",
      "source": [
        "###merge two linked list(single)"
      ],
      "metadata": {
        "id": "pvtQshPr84p3"
      }
    },
    {
      "cell_type": "code",
      "source": [
        "class Solution(object):\n",
        "    def getIntersectionNode(self, headA, headB):\n",
        "        list1,list2=headA,headB\n",
        "        while list1!=list2:\n",
        "            list1=list1.next if list1 else headB\n",
        "            list2=list2.next if list2 else headA\n",
        "        return list1# wont  Run without 2 LLs"
      ],
      "metadata": {
        "colab": {
          "base_uri": "https://localhost:8080/"
        },
        "id": "67O_0Fqs88_p",
        "outputId": "07d27755-aa6a-46af-99fe-0eb08a212c98"
      },
      "execution_count": 10,
      "outputs": [
        {
          "output_type": "stream",
          "name": "stdout",
          "text": [
            "4 3 2 1 \n",
            "5 6 7 8 None\n"
          ]
        }
      ]
    },
    {
      "cell_type": "markdown",
      "source": [
        "###Median of Two Sorted Arrays"
      ],
      "metadata": {
        "id": "X4zv_bKwHRk1"
      }
    },
    {
      "cell_type": "code",
      "source": [
        "arr1=[1,2,3]\n",
        "arr2=[4]\n",
        "m=sorted(arr1+arr2)\n",
        "n=len(m)\n",
        "mid=n//2\n",
        "if n%2==0:\n",
        "  med=(m[mid-1]+m[mid])/2.0\n",
        "  print(med)\n",
        "else:\n",
        "  med=m[mid]\n",
        "  print(med)"
      ],
      "metadata": {
        "colab": {
          "base_uri": "https://localhost:8080/"
        },
        "id": "HSgjq54EHSyM",
        "outputId": "13e3dfe2-ba48-4fe0-c2e8-a16f29d6a4e5"
      },
      "execution_count": 14,
      "outputs": [
        {
          "output_type": "stream",
          "name": "stdout",
          "text": [
            "2\n"
          ]
        }
      ]
    }
  ]
}