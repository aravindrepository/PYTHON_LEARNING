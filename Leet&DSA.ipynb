{
  "nbformat": 4,
  "nbformat_minor": 0,
  "metadata": {
    "colab": {
      "provenance": [],
      "authorship_tag": "ABX9TyNJM3Y1p9YHR8dWMBM9mrT2",
      "include_colab_link": true
    },
    "kernelspec": {
      "name": "python3",
      "display_name": "Python 3"
    },
    "language_info": {
      "name": "python"
    }
  },
  "cells": [
    {
      "cell_type": "markdown",
      "metadata": {
        "id": "view-in-github",
        "colab_type": "text"
      },
      "source": [
        "<a href=\"https://colab.research.google.com/github/aravindrepository/PYTHON_learning/blob/main/Leet%26DSA.ipynb\" target=\"_parent\"><img src=\"https://colab.research.google.com/assets/colab-badge.svg\" alt=\"Open In Colab\"/></a>"
      ]
    },
    {
      "cell_type": "markdown",
      "source": [
        "###The Two Sum problem asks us to find two numbers in an array that sum up to a given target value. We need to return the indices of these two numbers."
      ],
      "metadata": {
        "id": "f_1jEMOqyUYm"
      }
    },
    {
      "cell_type": "code",
      "execution_count": null,
      "metadata": {
        "colab": {
          "base_uri": "https://localhost:8080/"
        },
        "id": "k6s7MjmWyO64",
        "outputId": "ebce1ef1-4ecd-4064-d3b3-e6bc06d5b5ff"
      },
      "outputs": [
        {
          "output_type": "stream",
          "name": "stdout",
          "text": [
            "not found\n"
          ]
        }
      ],
      "source": [
        "def findSum(arr,tar):\n",
        "  n=len(arr)\n",
        "  for i in range(n-1):\n",
        "    for k in range(i+1,n):\n",
        "      if arr[i]+arr[k]==tar:\n",
        "        return [i,k]\n",
        "  return \"not found\"\n",
        "arr=[1,2,3,4]\n",
        "tar=5\n",
        "print(findSum(arr,tar))\n",
        "#simple"
      ]
    },
    {
      "cell_type": "code",
      "source": [
        "#simple version\n",
        "ar=[1,2,3,4]\n",
        "a=6\n",
        "for i in range(len(ar)):\n",
        "    for j in range(i+1,len(ar)):\n",
        "        if ar[i]+ar[j]==a:\n",
        "            print([i,j])\n"
      ],
      "metadata": {
        "colab": {
          "base_uri": "https://localhost:8080/"
        },
        "id": "9lhuY-Ru_5c4",
        "outputId": "e2e4c8d1-455d-404c-8156-e86eb66532ed"
      },
      "execution_count": null,
      "outputs": [
        {
          "output_type": "stream",
          "name": "stdout",
          "text": [
            "[1, 3]\n"
          ]
        }
      ]
    },
    {
      "cell_type": "markdown",
      "source": [
        "##program for two lists where list1 contains names and list2 contains the first letters of each names in the first list return true if all found else false return false if list2 length is not equal to list2"
      ],
      "metadata": {
        "id": "lYRp4ssE7APb"
      }
    },
    {
      "cell_type": "code",
      "source": [
        "a=[\"na\",\"ga\",\"sa\"]\n",
        "ai=['n','g','a']\n",
        "for i in range(len(a)):\n",
        "    if a[i][0]==ai[i]:\n",
        "        print(True)\n",
        "    else:\n",
        "        print(False)"
      ],
      "metadata": {
        "colab": {
          "base_uri": "https://localhost:8080/"
        },
        "id": "VQVGaD0v7cE3",
        "outputId": "7b7c25b6-b810-4d13-c3fa-b1c9e9f2b0a4"
      },
      "execution_count": null,
      "outputs": [
        {
          "output_type": "stream",
          "name": "stdout",
          "text": [
            "True\n",
            "True\n",
            "False\n"
          ]
        }
      ]
    },
    {
      "cell_type": "markdown",
      "source": [
        "###Linear search"
      ],
      "metadata": {
        "id": "A-nzEL9bnQ6P"
      }
    },
    {
      "cell_type": "code",
      "source": [
        "# without built in func\n",
        "def linea(arr,tar):\n",
        "  for i in range(len(arr)):\n",
        "    if arr[i]==tar:\n",
        "      return i\n",
        "  return 0\n",
        "arr=[1,4,5,6,7,8]\n",
        "tar=5\n",
        "if linea(arr,tar)==0:\n",
        "  print(\"cant find\")\n",
        "else:\n",
        "  print(linea(arr,tar))"
      ],
      "metadata": {
        "colab": {
          "base_uri": "https://localhost:8080/"
        },
        "id": "XllZqwT0nQOf",
        "outputId": "74d41dff-17e5-4a65-c2e8-c7cfc8b2d9b8"
      },
      "execution_count": null,
      "outputs": [
        {
          "output_type": "stream",
          "name": "stdout",
          "text": [
            "2\n"
          ]
        }
      ]
    },
    {
      "cell_type": "markdown",
      "source": [
        "###Binary Search"
      ],
      "metadata": {
        "id": "F2mdr7QSneGi"
      }
    },
    {
      "cell_type": "code",
      "source": [
        "arr=[1,2,3,4,5,6,7]\n",
        "n=len(arr)\n",
        "tar=3\n",
        "if tar not in arr:\n",
        "  print\n",
        "if n%2==0:\n",
        "    mid=n//2+1\n",
        "else:\n",
        "    mid=n//2\n",
        "me=arr[mid]\n",
        "#print(me)\n",
        "if me==tar:\n",
        "    print(\"found at {}\".format(me))\n",
        "if tar<me:\n",
        "    for i in range(me):\n",
        "        if arr[i]==tar:\n",
        "            print(\"found at {}\".format(i))\n",
        "if tar>me:\n",
        "    for j in range(me,n+1):\n",
        "        if j==tar:\n",
        "            print(\"found at {}\".format(j-1))\n",
        "            break\n",
        "    else:\n",
        "        print(\"not found in the array\")"
      ],
      "metadata": {
        "colab": {
          "base_uri": "https://localhost:8080/"
        },
        "id": "zf41peSInh8R",
        "outputId": "11c968ed-39ee-47fa-8ecd-74f71c3c6dcc"
      },
      "execution_count": 7,
      "outputs": [
        {
          "output_type": "stream",
          "name": "stdout",
          "text": [
            "found at 2\n"
          ]
        }
      ]
    },
    {
      "cell_type": "markdown",
      "source": [
        "###Bubble Sort"
      ],
      "metadata": {
        "id": "UWc6EWT9npy6"
      }
    },
    {
      "cell_type": "code",
      "source": [
        "def bubble(arr):\n",
        "  n=len(arr)\n",
        "  for i in range(n):\n",
        "    for j in range(0,n-i-1):\n",
        "      if arr[j]>arr[j+1]:\n",
        "        arr[j],arr[j+1]=arr[j+1],arr[j]\n",
        "  return arr\n",
        "arr=[43,76,34,98,35,9]\n",
        "print(bubble(arr))\n",
        "\n",
        "\n"
      ],
      "metadata": {
        "id": "4sbAk2N0nrtL",
        "outputId": "278b8f90-89dd-4ede-fc23-32f1b91afa71",
        "colab": {
          "base_uri": "https://localhost:8080/"
        }
      },
      "execution_count": null,
      "outputs": [
        {
          "output_type": "stream",
          "name": "stdout",
          "text": [
            "[9, 34, 35, 43, 76, 98]\n"
          ]
        }
      ]
    },
    {
      "cell_type": "markdown",
      "source": [
        "###Missing element in sorted array"
      ],
      "metadata": {
        "id": "rOAs_l_YoN1f"
      }
    },
    {
      "cell_type": "code",
      "source": [
        "def missorted(arr):\n",
        "  n=len(arr)+1\n",
        "  en=n*(n+1)//2\n",
        "  tn=sum(arr)\n",
        "  return en-tn\n",
        "arr=[1,2,3,5]\n",
        "print(missorted(arr))"
      ],
      "metadata": {
        "colab": {
          "base_uri": "https://localhost:8080/"
        },
        "id": "whMgjgLPoRLP",
        "outputId": "3dcd748c-3233-4f40-9c82-59d5129a11ee"
      },
      "execution_count": 2,
      "outputs": [
        {
          "output_type": "stream",
          "name": "stdout",
          "text": [
            "4\n"
          ]
        }
      ]
    },
    {
      "cell_type": "markdown",
      "source": [],
      "metadata": {
        "id": "0Mp6RJiRtccC"
      }
    },
    {
      "cell_type": "markdown",
      "source": [
        "###Missing element in unsorted array"
      ],
      "metadata": {
        "id": "o6Mo-JostdlR"
      }
    },
    {
      "cell_type": "code",
      "source": [
        "def unsorted(arr):\n",
        "  n=len(arr)\n",
        "  em_arr=[-1]*(n+1)\n",
        "  for nu in arr:\n",
        "    em_arr[nu]=nu\n",
        "  for i in range(len(em_arr)):\n",
        "    if em_arr[i]==-1:\n",
        "      return i\n",
        "arr=[3,0,2]\n",
        "print(unsorted(arr))"
      ],
      "metadata": {
        "colab": {
          "base_uri": "https://localhost:8080/"
        },
        "id": "7Q7I3iy_tf2j",
        "outputId": "82f27c19-8e56-4951-9d10-4e1c6d0cabd9"
      },
      "execution_count": 4,
      "outputs": [
        {
          "output_type": "stream",
          "name": "stdout",
          "text": [
            "1\n"
          ]
        }
      ]
    },
    {
      "cell_type": "markdown",
      "source": [
        "###Valid parenthesis"
      ],
      "metadata": {
        "id": "w46ORE3y0MJE"
      }
    },
    {
      "cell_type": "code",
      "source": [
        "def stack(s):\n",
        "  sta=[]\n",
        "  m = {\")\":\"(\", \"}\":\"{\", \"]\":\"[\"}\n",
        "  for i in s:\n",
        "    if i  in m.values():\n",
        "      sta.append(i)\n",
        "    elif i  in m.keys():\n",
        "      if not sta or m[i]!=sta.pop():\n",
        "        return False\n",
        "  return not sta\n",
        "s=\"[{}]\"\n",
        "print(stack(s))"
      ],
      "metadata": {
        "colab": {
          "base_uri": "https://localhost:8080/"
        },
        "id": "Me7yrpxG0RuU",
        "outputId": "b249ddb6-6efc-4726-9947-946287a30833"
      },
      "execution_count": 6,
      "outputs": [
        {
          "output_type": "stream",
          "name": "stdout",
          "text": [
            "True\n"
          ]
        }
      ]
    }
  ]
}