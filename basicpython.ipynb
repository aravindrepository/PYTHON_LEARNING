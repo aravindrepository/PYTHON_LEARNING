{
  "nbformat": 4,
  "nbformat_minor": 0,
  "metadata": {
    "colab": {
      "provenance": [],
      "authorship_tag": "ABX9TyOuMJjzxMzaS4slhkwpMn1u",
      "include_colab_link": true
    },
    "kernelspec": {
      "name": "python3",
      "display_name": "Python 3"
    },
    "language_info": {
      "name": "python"
    }
  },
  "cells": [
    {
      "cell_type": "markdown",
      "metadata": {
        "id": "view-in-github",
        "colab_type": "text"
      },
      "source": [
        "<a href=\"https://colab.research.google.com/github/aravindrepository/PYTHON_learning/blob/main/basicpython.ipynb\" target=\"_parent\"><img src=\"https://colab.research.google.com/assets/colab-badge.svg\" alt=\"Open In Colab\"/></a>"
      ]
    },
    {
      "cell_type": "code",
      "execution_count": 1,
      "metadata": {
        "colab": {
          "base_uri": "https://localhost:8080/"
        },
        "id": "1KdMkihPP24t",
        "outputId": "c82499f2-e795-4ac1-9e48-165e58075f0f"
      },
      "outputs": [
        {
          "output_type": "stream",
          "name": "stdout",
          "text": [
            "10\n"
          ]
        }
      ],
      "source": [
        "a1=10\n",
        "print(a1)"
      ]
    },
    {
      "cell_type": "markdown",
      "source": [
        "to get without mail\n"
      ],
      "metadata": {
        "id": "5-6Q1MhnRtB_"
      }
    },
    {
      "cell_type": "code",
      "source": [
        "a=\"aravinda@gmail.com\"\n",
        "bbb=a[-10:]\n",
        "for a in a:\n",
        "  if a==\"@\":\n",
        "   break\n",
        "  print(a)\n",
        "print(bbb)"
      ],
      "metadata": {
        "colab": {
          "base_uri": "https://localhost:8080/"
        },
        "id": "QWYiJ_4lQG9t",
        "outputId": "36cc6f91-df84-43d7-a839-be0aae8e0142"
      },
      "execution_count": null,
      "outputs": [
        {
          "output_type": "stream",
          "name": "stdout",
          "text": [
            "a\n",
            "r\n",
            "a\n",
            "v\n",
            "i\n",
            "n\n",
            "d\n",
            "a\n",
            "@gmail.com\n"
          ]
        }
      ]
    },
    {
      "cell_type": "code",
      "source": [
        "iii=[1,4,6,7,8]\n",
        "print(max(iii))"
      ],
      "metadata": {
        "colab": {
          "base_uri": "https://localhost:8080/"
        },
        "id": "bpLyAQPBQbMM",
        "outputId": "4faab4ab-a47b-4c28-945c-cab3f3de17e2"
      },
      "execution_count": null,
      "outputs": [
        {
          "output_type": "stream",
          "name": "stdout",
          "text": [
            "8\n"
          ]
        }
      ]
    },
    {
      "cell_type": "code",
      "source": [
        "def palin(n):\n",
        "  return n==n[::-1]\n",
        "\n",
        "text=input(\"enter a text  \")\n",
        "if palin(text):\n",
        "  print(\"palindrome true!!\")\n",
        "else:\n",
        "  print(\"not a palindrome\")"
      ],
      "metadata": {
        "colab": {
          "base_uri": "https://localhost:8080/"
        },
        "id": "6u58T8ywQl7c",
        "outputId": "2fef132d-0e06-4cf0-8679-d20d0618a953"
      },
      "execution_count": null,
      "outputs": [
        {
          "output_type": "stream",
          "name": "stdout",
          "text": [
            "enter a text  hello\n",
            "not a palindrome\n"
          ]
        }
      ]
    },
    {
      "cell_type": "code",
      "source": [
        "def fibo(n):\n",
        "  fn=[0,1]\n",
        "  for i in range(2,n):\n",
        "    fn.append(fn[-1]+fn[-2])\n",
        "  return fn\n",
        "ddt=int(input(\"enter a number\"))\n",
        "print(fibo(ddt))"
      ],
      "metadata": {
        "colab": {
          "base_uri": "https://localhost:8080/"
        },
        "id": "sWLgyaC0WckH",
        "outputId": "084de82a-f66f-4f5e-aee4-a423bf3b0006"
      },
      "execution_count": null,
      "outputs": [
        {
          "output_type": "stream",
          "name": "stdout",
          "text": [
            "enter a number10\n",
            "[0, 1, 1, 2, 3, 5, 8, 13, 21, 34]\n"
          ]
        }
      ]
    },
    {
      "cell_type": "markdown",
      "source": [
        "fibonacchi"
      ],
      "metadata": {
        "id": "6x2LNddrWawH"
      }
    },
    {
      "cell_type": "markdown",
      "source": [
        "random num + guessing game"
      ],
      "metadata": {
        "id": "Bs8PPAxPXY34"
      }
    },
    {
      "cell_type": "code",
      "source": [
        "import random\n",
        "num= random.randint(0,10)\n",
        "count=0\n",
        "print(\"try to guess the number\")\n",
        "while True:\n",
        "  ans=int(input(\"enter a number\"))\n",
        "  count +=1\n",
        "  if ans > num:\n",
        "    print(\"thats too big\")\n",
        "  elif ans < num:\n",
        "    print(\"thats a bit small init\")\n",
        "  else:\n",
        "    print(\"thats the right answer\",count)\n",
        "    break\n",
        "\n"
      ],
      "metadata": {
        "colab": {
          "base_uri": "https://localhost:8080/"
        },
        "id": "pZ7U3D7PXYGu",
        "outputId": "f3997354-88ec-402b-a5c0-2c1bdac1efb9"
      },
      "execution_count": null,
      "outputs": [
        {
          "output_type": "stream",
          "name": "stdout",
          "text": [
            "try to guess the number\n"
          ]
        }
      ]
    },
    {
      "cell_type": "markdown",
      "source": [
        "odd or even in a list"
      ],
      "metadata": {
        "id": "BuzlY7vJBr0G"
      }
    },
    {
      "cell_type": "code",
      "source": [
        "oddoreven=[1,2,3,4,5,6,7,8,9,10]\n",
        "odd=0\n",
        "even=0\n",
        "for num in oddoreven:\n",
        "    if num%2==0:\n",
        "        even+=1\n",
        "    else:\n",
        "        odd+=1\n",
        "print(\"no of odd numbers\",odd)\n",
        "print(\"no of even numbers\",even)\n"
      ],
      "metadata": {
        "colab": {
          "base_uri": "https://localhost:8080/"
        },
        "id": "SDWbTIVuBrU2",
        "outputId": "bcf8a7fc-cccf-4567-e740-b61266f1f955"
      },
      "execution_count": null,
      "outputs": [
        {
          "output_type": "stream",
          "name": "stdout",
          "text": [
            "no of odd numbers 5\n",
            "no of even numbers 5\n"
          ]
        }
      ]
    },
    {
      "cell_type": "markdown",
      "source": [
        "except 2 and 3"
      ],
      "metadata": {
        "id": "XwstEhz4CsHI"
      }
    },
    {
      "cell_type": "code",
      "source": [
        "for i in range(6):\n",
        "  if (i==2 or i==3):\n",
        "    continue\n",
        "  print(i,end='')"
      ],
      "metadata": {
        "colab": {
          "base_uri": "https://localhost:8080/"
        },
        "id": "UIbzsBaZB28e",
        "outputId": "96379b67-db1b-4789-c271-69761c78fd83"
      },
      "execution_count": null,
      "outputs": [
        {
          "output_type": "stream",
          "name": "stdout",
          "text": [
            "0145"
          ]
        }
      ]
    },
    {
      "cell_type": "code",
      "source": [
        "for i in range(10):\n",
        "  print(str(i)*i ,\"\\n\")\n"
      ],
      "metadata": {
        "colab": {
          "base_uri": "https://localhost:8080/"
        },
        "id": "rQXpKlAFCqr4",
        "outputId": "d9eb7f2b-5336-4559-d7a5-bac60521a739"
      },
      "execution_count": null,
      "outputs": [
        {
          "output_type": "stream",
          "name": "stdout",
          "text": [
            "  \n",
            "\n",
            "1  \n",
            "\n",
            "22  \n",
            "\n",
            "333  \n",
            "\n",
            "4444  \n",
            "\n",
            "55555  \n",
            "\n",
            "666666  \n",
            "\n",
            "7777777  \n",
            "\n",
            "88888888  \n",
            "\n",
            "999999999  \n",
            "\n"
          ]
        }
      ]
    },
    {
      "cell_type": "code",
      "source": [
        "aa=\"True\"\n",
        "type(aa)\n",
        "aa[0]"
      ],
      "metadata": {
        "colab": {
          "base_uri": "https://localhost:8080/",
          "height": 35
        },
        "id": "9fLsfa0viNy4",
        "outputId": "873c13e3-3f5f-481f-ae6c-6b7ebdba7051"
      },
      "execution_count": null,
      "outputs": [
        {
          "output_type": "execute_result",
          "data": {
            "text/plain": [
              "'T'"
            ],
            "application/vnd.google.colaboratory.intrinsic+json": {
              "type": "string"
            }
          },
          "metadata": {},
          "execution_count": 4
        }
      ]
    },
    {
      "cell_type": "markdown",
      "source": [
        "line countinuation"
      ],
      "metadata": {
        "id": "X9kQsnEhsGmS"
      }
    },
    {
      "cell_type": "code",
      "source": [
        "2*4 + 6 +\\\n",
        "10"
      ],
      "metadata": {
        "colab": {
          "base_uri": "https://localhost:8080/"
        },
        "id": "84XznQ4cr95B",
        "outputId": "85e70577-7f3b-47b8-ddee-cabe741216a4"
      },
      "execution_count": null,
      "outputs": [
        {
          "output_type": "execute_result",
          "data": {
            "text/plain": [
              "24"
            ]
          },
          "metadata": {},
          "execution_count": 3
        }
      ]
    },
    {
      "cell_type": "markdown",
      "source": [
        "discount"
      ],
      "metadata": {
        "id": "p0YpuZcwGO0F"
      }
    },
    {
      "cell_type": "code",
      "source": [
        "price=100\n",
        "qq= int(input(\"enter total quantity \"))\n",
        "tp= price * qq\n",
        "of=tp*.10\n",
        "fp=tp-of\n",
        "print(\"total price is:\"+str(tp))\n",
        "if tp >= 1000:\n",
        "    print(\"10% offer is applicable, total price will be\", str(fp))\n",
        "else:\n",
        "    print(\"thank you for shopping \")"
      ],
      "metadata": {
        "colab": {
          "base_uri": "https://localhost:8080/"
        },
        "id": "uxCi3AiUF_c8",
        "outputId": "5a14bb75-f779-4bdd-b824-9fc7397c8631"
      },
      "execution_count": null,
      "outputs": [
        {
          "output_type": "stream",
          "name": "stdout",
          "text": [
            "enter total quantity 200\n",
            "total price is:20000\n",
            "10% offer is applicable, total price will be 18000.0\n"
          ]
        }
      ]
    },
    {
      "cell_type": "markdown",
      "source": [
        "Grade"
      ],
      "metadata": {
        "id": "ha8FCGykIma2"
      }
    },
    {
      "cell_type": "code",
      "source": [
        "print(\"enter a grade\")\n",
        "grade=int(input())\n",
        "if grade < 25:\n",
        "    print(\"grade is f\")\n",
        "elif grade > 25 and grade < 45:\n",
        "    print(\"grade is E\")\n",
        "elif grade > 45 and grade < 50:\n",
        "    print(\"grade is D\")\n",
        "elif grade > 50 and grade < 60:\n",
        "    print(\"grade is C\")\n",
        "elif grade > 60 and grade < 80:\n",
        "    print(\"grade is B\")\n",
        "else:\n",
        "  print(\"grade is A\")\n"
      ],
      "metadata": {
        "colab": {
          "base_uri": "https://localhost:8080/"
        },
        "id": "HwYiTztAGTXw",
        "outputId": "47cd2f16-1112-4634-c439-7cb3269fb516"
      },
      "execution_count": null,
      "outputs": [
        {
          "output_type": "stream",
          "name": "stdout",
          "text": [
            "enter a grade\n",
            "79\n",
            "grade is B\n"
          ]
        }
      ]
    },
    {
      "cell_type": "markdown",
      "source": [
        "attendence percentage"
      ],
      "metadata": {
        "id": "Lz059qb6In4f"
      }
    },
    {
      "cell_type": "code",
      "source": [
        "class_h=int(input(\"enter total no of class hours: \"))\n",
        "class_a=int(input(\"enter total no of class attended \"))\n",
        "class_ml=str(input(\"medical leave yes or no \"))\n",
        "per= (class_a/class_h)*100\n",
        "if per > 75:\n",
        "    print(\"you are allowed to attend the exams\")\n",
        "elif class_ml == \"yes\":\n",
        "    print(\"medical leave will be considered and you will be allowed to write the exams\")\n",
        "else:\n",
        "  print(\"you are not allowed to attend the exams\")"
      ],
      "metadata": {
        "colab": {
          "base_uri": "https://localhost:8080/"
        },
        "id": "kdC2H4znIlkG",
        "outputId": "8d526a18-fad0-4a4f-e4fd-d6c0c5ad6652"
      },
      "execution_count": null,
      "outputs": [
        {
          "output_type": "stream",
          "name": "stdout",
          "text": [
            "enter total no of class hours:100\n",
            "enter total no of class attended50\n",
            "medical leave yes or noyes\n",
            "medical leave will be considered and you will be allowed to write the exams\n"
          ]
        }
      ]
    },
    {
      "cell_type": "markdown",
      "source": [
        "Functions\n"
      ],
      "metadata": {
        "id": "SbGEO_ICIapS"
      }
    },
    {
      "cell_type": "code",
      "source": [
        "def reverse_string(string_a):\n",
        "    return string_a[::-1]\n",
        "reverse_string(\"hello\")"
      ],
      "metadata": {
        "colab": {
          "base_uri": "https://localhost:8080/",
          "height": 36
        },
        "id": "3rWudpEgIcga",
        "outputId": "f29b0cc6-b53a-43e9-b346-b64564bf6864"
      },
      "execution_count": null,
      "outputs": [
        {
          "output_type": "execute_result",
          "data": {
            "text/plain": [
              "'olleh'"
            ],
            "application/vnd.google.colaboratory.intrinsic+json": {
              "type": "string"
            }
          },
          "metadata": {},
          "execution_count": 2
        }
      ]
    },
    {
      "cell_type": "code",
      "source": [
        "def even_or_odd(x):\n",
        "    if x%2==0:\n",
        "      print(\"even\")\n",
        "    else:\n",
        "      print(\"Odd\")\n",
        "print(\"enter a number\")\n",
        "x1=int(input())\n",
        "even_or_odd(x1)\n"
      ],
      "metadata": {
        "colab": {
          "base_uri": "https://localhost:8080/"
        },
        "id": "Fa2oWXQCIuCD",
        "outputId": "693069b8-c751-424d-9bf2-24ccfea1b05d"
      },
      "execution_count": null,
      "outputs": [
        {
          "output_type": "stream",
          "name": "stdout",
          "text": [
            "enter a number\n",
            "4\n",
            "even\n"
          ]
        }
      ]
    },
    {
      "cell_type": "markdown",
      "source": [
        "goofy\n"
      ],
      "metadata": {
        "id": "L51gZ_PAJWyB"
      }
    },
    {
      "cell_type": "code",
      "source": [
        "def hello_world():\n",
        "  print(\"Print()\")\n",
        "\n",
        "\n",
        "hello_world()"
      ],
      "metadata": {
        "colab": {
          "base_uri": "https://localhost:8080/"
        },
        "id": "-6VU6SsoJYKb",
        "outputId": "eae04dc0-c39b-4e6c-e311-3ad7936fd66f"
      },
      "execution_count": null,
      "outputs": [
        {
          "output_type": "stream",
          "name": "stdout",
          "text": [
            "Print()\n"
          ]
        }
      ]
    },
    {
      "cell_type": "code",
      "source": [
        "def percentage(x,y):\n",
        "    m=x/y*100\n",
        "    print(\"the percentage is:\")\n",
        "    return m\n",
        "percentage(10,100)"
      ],
      "metadata": {
        "colab": {
          "base_uri": "https://localhost:8080/"
        },
        "id": "zuv0S2RnJ9ts",
        "outputId": "25dc3079-bd60-4029-fb10-4662de29d4b2"
      },
      "execution_count": null,
      "outputs": [
        {
          "output_type": "stream",
          "name": "stdout",
          "text": [
            "the percentage is:\n"
          ]
        },
        {
          "output_type": "execute_result",
          "data": {
            "text/plain": [
              "10.0"
            ]
          },
          "metadata": {},
          "execution_count": 17
        }
      ]
    },
    {
      "cell_type": "markdown",
      "source": [
        "domain finder\n"
      ],
      "metadata": {
        "id": "Vzu-UgKCNH68"
      }
    },
    {
      "cell_type": "code",
      "source": [
        "def return_domain(x):\n",
        "   m=x[-10:]\n",
        "   return m\n",
        "\n",
        "mail_id=str(input(\"enter a mail id: \"))\n",
        "return_domain(mail_id)"
      ],
      "metadata": {
        "colab": {
          "base_uri": "https://localhost:8080/",
          "height": 53
        },
        "id": "lhCnC_YDL8BP",
        "outputId": "baab8c3a-746c-4504-db68-3d838ce7961e"
      },
      "execution_count": null,
      "outputs": [
        {
          "name": "stdout",
          "output_type": "stream",
          "text": [
            "enter a mail idaravinda2@gmail.com\n"
          ]
        },
        {
          "output_type": "execute_result",
          "data": {
            "text/plain": [
              "'@gmail.com'"
            ],
            "application/vnd.google.colaboratory.intrinsic+json": {
              "type": "string"
            }
          },
          "metadata": {},
          "execution_count": 21
        }
      ]
    },
    {
      "cell_type": "markdown",
      "source": [
        "name from mail id"
      ],
      "metadata": {
        "id": "-hzVNTHpNCZK"
      }
    },
    {
      "cell_type": "code",
      "source": [
        "def name_from_mail(x):\n",
        "      n=x[:-10]\n",
        "      return n\n",
        "name_from_mail(\"hello@gmail.com\")"
      ],
      "metadata": {
        "colab": {
          "base_uri": "https://localhost:8080/",
          "height": 36
        },
        "id": "hlKVXtrDMsV-",
        "outputId": "f165c534-24c5-4433-e42a-609bb08222be"
      },
      "execution_count": null,
      "outputs": [
        {
          "output_type": "execute_result",
          "data": {
            "text/plain": [
              "'hello'"
            ],
            "application/vnd.google.colaboratory.intrinsic+json": {
              "type": "string"
            }
          },
          "metadata": {},
          "execution_count": 22
        }
      ]
    },
    {
      "cell_type": "code",
      "source": [
        "def is_cube(x,y):\n",
        "   if x==y:\n",
        "    print(\"the given dimension are of a cube indeed!\")\n",
        "   else:\n",
        "    print(\"Not a cube :(\")\n",
        "print(\"enter dimesions:\")\n",
        "a=float(input())\n",
        "b=float(input())\n",
        "is_cube(a,b)"
      ],
      "metadata": {
        "colab": {
          "base_uri": "https://localhost:8080/"
        },
        "id": "0UdMlqetN7Hk",
        "outputId": "e9010e9c-8f15-49f3-d5af-1f148b7c1bd8"
      },
      "execution_count": null,
      "outputs": [
        {
          "output_type": "stream",
          "name": "stdout",
          "text": [
            "enter dimesions:\n",
            "10 \n",
            "10\n",
            "the given dimension are of a cube indeed!\n"
          ]
        }
      ]
    },
    {
      "cell_type": "code",
      "source": [
        "i=1\n",
        "a=0\n",
        "b=1\n",
        "c=0\n",
        "while i < 10:\n",
        "  c=a+b\n",
        "  print(str(c))\n",
        "  a=b\n",
        "  b=c\n",
        "  i+=1"
      ],
      "metadata": {
        "colab": {
          "base_uri": "https://localhost:8080/"
        },
        "id": "A8ymzDCbXSnc",
        "outputId": "a9814cd7-79ad-4887-8f5f-a499c973b52d"
      },
      "execution_count": null,
      "outputs": [
        {
          "output_type": "stream",
          "name": "stdout",
          "text": [
            "1\n",
            "2\n",
            "3\n",
            "5\n",
            "8\n",
            "13\n",
            "21\n",
            "34\n",
            "55\n"
          ]
        }
      ]
    },
    {
      "cell_type": "code",
      "source": [
        "def fibooo(x):\n",
        "  i,a,b,c=1,0,1,0\n",
        "  while i <= x:\n",
        "    c=a+b\n",
        "    print(str(c))\n",
        "    a=b\n",
        "    b=c\n",
        "    i+=1\n",
        "x1=int(input(\"enter a no:\"))\n",
        "fibooo(x1)\n"
      ],
      "metadata": {
        "colab": {
          "base_uri": "https://localhost:8080/"
        },
        "id": "_wEUqWUdYZ2_",
        "outputId": "af22f3be-ac06-45d0-91e8-93f00608b29c"
      },
      "execution_count": null,
      "outputs": [
        {
          "output_type": "stream",
          "name": "stdout",
          "text": [
            "enter a no:12\n",
            "1\n",
            "2\n",
            "3\n",
            "5\n",
            "8\n",
            "13\n",
            "21\n",
            "34\n",
            "55\n",
            "89\n",
            "144\n",
            "233\n"
          ]
        }
      ]
    },
    {
      "cell_type": "markdown",
      "source": [
        "fiboo but even only\n"
      ],
      "metadata": {
        "id": "Ch413LHpZinC"
      }
    },
    {
      "cell_type": "code",
      "source": [
        "i=1\n",
        "a=0\n",
        "b=1\n",
        "c=0\n",
        "print(\"enter a number\")\n",
        "count=int(input())\n",
        "while i < count:\n",
        "  c=a+b\n",
        "  a=b\n",
        "  b=c\n",
        "  i+=1\n",
        "  if c%2==0:\n",
        "    print(c)"
      ],
      "metadata": {
        "colab": {
          "base_uri": "https://localhost:8080/"
        },
        "id": "lPxeLJdPZopN",
        "outputId": "10f92708-1196-4237-b097-3cfbccc85b74"
      },
      "execution_count": null,
      "outputs": [
        {
          "output_type": "stream",
          "name": "stdout",
          "text": [
            "enter a number\n",
            "50\n",
            "2\n",
            "8\n",
            "34\n",
            "144\n",
            "610\n",
            "2584\n",
            "10946\n",
            "46368\n",
            "196418\n",
            "832040\n",
            "3524578\n",
            "14930352\n",
            "63245986\n",
            "267914296\n",
            "1134903170\n",
            "4807526976\n"
          ]
        }
      ]
    },
    {
      "cell_type": "markdown",
      "source": [
        "fiboo but odd"
      ],
      "metadata": {
        "id": "GtoSpPClaApl"
      }
    },
    {
      "cell_type": "code",
      "source": [
        "i=1\n",
        "a=0\n",
        "b=1\n",
        "c=0\n",
        "while i < 10:\n",
        "  c=a+b\n",
        "  a=b\n",
        "  b=c\n",
        "  i+=1\n",
        "  if c%2!=0:\n",
        "    print(c)"
      ],
      "metadata": {
        "colab": {
          "base_uri": "https://localhost:8080/"
        },
        "id": "Lvjku5D7aDed",
        "outputId": "7fc4d920-e2a9-47fa-b69f-2914cb19196a"
      },
      "execution_count": null,
      "outputs": [
        {
          "output_type": "stream",
          "name": "stdout",
          "text": [
            "1\n",
            "3\n",
            "5\n",
            "13\n",
            "21\n",
            "55\n"
          ]
        }
      ]
    },
    {
      "cell_type": "code",
      "source": [
        "def distance_from_zero(x):\n",
        "    if type(x) == int or type(x) == float:\n",
        "        return abs(x)\n",
        "    else:\n",
        "      print(\"not possible\")\n",
        "xx=int(input(\"enter a number: \"))\n",
        "distance_from_zero(xx)"
      ],
      "metadata": {
        "colab": {
          "base_uri": "https://localhost:8080/"
        },
        "id": "CHQYklJM7Aif",
        "outputId": "e5dd42bf-754d-421d-a76c-cfb2d297d56f"
      },
      "execution_count": null,
      "outputs": [
        {
          "name": "stdout",
          "output_type": "stream",
          "text": [
            "enter a number: 23\n"
          ]
        },
        {
          "output_type": "execute_result",
          "data": {
            "text/plain": [
              "23"
            ]
          },
          "metadata": {},
          "execution_count": 6
        }
      ]
    },
    {
      "cell_type": "code",
      "source": [
        "def typeof(x):\n",
        "  return type(x)\n",
        "typeof(\"string\")"
      ],
      "metadata": {
        "colab": {
          "base_uri": "https://localhost:8080/"
        },
        "id": "iuBqdGL7t-bx",
        "outputId": "343fa6e6-c3da-4450-fa2a-dab5f88e9202"
      },
      "execution_count": null,
      "outputs": [
        {
          "output_type": "execute_result",
          "data": {
            "text/plain": [
              "str"
            ]
          },
          "metadata": {},
          "execution_count": 2
        }
      ]
    },
    {
      "cell_type": "code",
      "source": [
        "def sort_function(al):\n",
        "    return al.sort(reverse=Fl)\n",
        "x=[4,6,2,6,8]\n",
        "sort_function(x)"
      ],
      "metadata": {
        "id": "rm_n2fkcoZ3s"
      },
      "execution_count": null,
      "outputs": []
    },
    {
      "cell_type": "markdown",
      "source": [
        "Dictionary"
      ],
      "metadata": {
        "id": "iOcdJH5wtKCI"
      }
    },
    {
      "cell_type": "code",
      "source": [
        "a={'a':'first','b':'Second','c':'third'}\n",
        "a['c']\n",
        "a['d']='fifth'\n",
        "a\n",
        "a['d']='Forth'\n",
        "a['efg']=['fifth','sixth','seventh']\n",
        "print(a.get('d'))"
      ],
      "metadata": {
        "colab": {
          "base_uri": "https://localhost:8080/"
        },
        "id": "YR_3KVUSs3C1",
        "outputId": "1e010fa3-18e3-476f-e41c-203e45a48b71"
      },
      "execution_count": 27,
      "outputs": [
        {
          "output_type": "stream",
          "name": "stdout",
          "text": [
            "Forth\n"
          ]
        }
      ]
    }
  ]
}