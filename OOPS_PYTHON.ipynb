{
  "nbformat": 4,
  "nbformat_minor": 0,
  "metadata": {
    "colab": {
      "provenance": [],
      "authorship_tag": "ABX9TyMVtNiDolN6psXEnCY7Zea5",
      "include_colab_link": true
    },
    "kernelspec": {
      "name": "python3",
      "display_name": "Python 3"
    },
    "language_info": {
      "name": "python"
    }
  },
  "cells": [
    {
      "cell_type": "markdown",
      "metadata": {
        "id": "view-in-github",
        "colab_type": "text"
      },
      "source": [
        "<a href=\"https://colab.research.google.com/github/aravindrepository/PYTHON_learning/blob/main/OOPS_PYTHON.ipynb\" target=\"_parent\"><img src=\"https://colab.research.google.com/assets/colab-badge.svg\" alt=\"Open In Colab\"/></a>"
      ]
    },
    {
      "cell_type": "markdown",
      "source": [
        "###CLass and Objects\n",
        "**Class**: A class is a blueprint or template for creating objects. It defines a set of attributes (data) and methods (functions) that its objects will have. In Python, classes are defined using the class keyword.\n",
        "\n",
        "**Object**: An instance of a class. When we instantiate a class, we create an object that contains data and can perform the actions defined in the class"
      ],
      "metadata": {
        "id": "K4lW9rErt0Ky"
      }
    },
    {
      "cell_type": "code",
      "execution_count": null,
      "metadata": {
        "colab": {
          "base_uri": "https://localhost:8080/"
        },
        "id": "WxD1_ED5tBw8",
        "outputId": "1c377beb-cb3b-4f20-c05c-85771769cf5d"
      },
      "outputs": [
        {
          "output_type": "stream",
          "name": "stdout",
          "text": [
            "game start....\n"
          ]
        }
      ],
      "source": [
        "class game:\n",
        "  def start():\n",
        "    print(\"game start....\")\n",
        "\n",
        "game.start()"
      ]
    },
    {
      "cell_type": "markdown",
      "source": [
        "with self"
      ],
      "metadata": {
        "id": "T7bMVqUGuiS9"
      }
    },
    {
      "cell_type": "code",
      "source": [
        "class BIKE:\n",
        "  def __init__(self,model,displacement):\n",
        "    self.model=model\n",
        "    self.displacement=displacement\n",
        "  def display(self):\n",
        "    print(f\"bike's model:{self.model} displacement:{self.displacement}\")\n",
        "\n",
        "B=BIKE('cbr650s',644)\n",
        "B.display()\n",
        "D=BIKE('ducati diavel v4',998)\n",
        "D.display()"
      ],
      "metadata": {
        "colab": {
          "base_uri": "https://localhost:8080/"
        },
        "id": "9GHbguTGuhzl",
        "outputId": "9636ac5d-615f-44e8-a185-df44cc9b6a2b"
      },
      "execution_count": null,
      "outputs": [
        {
          "output_type": "stream",
          "name": "stdout",
          "text": [
            "bike's model:cbr650s displacement:644\n",
            "bike's model:ducati diavel v4 displacement:998\n"
          ]
        }
      ]
    },
    {
      "cell_type": "code",
      "source": [
        "class bank:\n",
        "    def __init__(self,bal=100):\n",
        "        self.bal=bal\n",
        "    def Balance(self):\n",
        "        return self.bal\n",
        "    def debit(self,tar):\n",
        "        if tar>self.bal:\n",
        "            print(\"not enough balance\")\n",
        "        else:\n",
        "            self.bal-=tar\n",
        "            print(\"debited {}\".format(tar))\n",
        "    def credit(self,tar2):\n",
        "        self.bal+=tar2\n",
        "        print(\"credited amount: {} total balance {}\".format(tar2,self.bal))\n",
        "b=bank()\n",
        "print(b.Balance())\n",
        "b.debit(10)\n",
        "print(b.Balance())\n",
        "b.credit(9000)\n",
        "print(b.Balance())"
      ],
      "metadata": {
        "colab": {
          "base_uri": "https://localhost:8080/"
        },
        "id": "k4O-vOHH-7cY",
        "outputId": "e53415ae-1bd5-49d3-b5a1-b153e751b852"
      },
      "execution_count": 1,
      "outputs": [
        {
          "output_type": "stream",
          "name": "stdout",
          "text": [
            "100\n",
            "debited 10\n",
            "90\n",
            "credited amount: 9000 total balance 9090\n",
            "9090\n"
          ]
        }
      ]
    },
    {
      "cell_type": "markdown",
      "source": [
        "###Encapsulation\n",
        "\n",
        "**Encapsulation**: Encapsulation is the technique of bundling data and methods that operate on the data within a single unit, or class. It restricts direct access to some of an object’s components, preventing unintended interference and misuse. In Python, encapsulation can be achieved by marking variables as private (preceding them with an underscore, _ or __).\n",
        "Why Encapsulation? It enhances security and ensures that sensitive information is not accessible from outside the class."
      ],
      "metadata": {
        "id": "R0hDi067vx-g"
      }
    },
    {
      "cell_type": "code",
      "source": [
        "class BankAcc:\n",
        "  def __init__(self,balance=0):\n",
        "    self.__balance=balance\n",
        "  def deposite(self,amount):\n",
        "    if amount > 0:\n",
        "      self.__balance+=amount\n",
        "  def balance(self):\n",
        "    print(f\"balance is {self.__balance}\")\n",
        "b=BankAcc()\n",
        "b.balance()\n",
        "b.deposite(5009)\n",
        "b.balance()"
      ],
      "metadata": {
        "colab": {
          "base_uri": "https://localhost:8080/"
        },
        "id": "S-FYN9HGv6WI",
        "outputId": "b4f727d2-0179-4c16-d361-efa1ea07cead"
      },
      "execution_count": null,
      "outputs": [
        {
          "output_type": "stream",
          "name": "stdout",
          "text": [
            "balance is 0\n",
            "balance is 5009\n"
          ]
        }
      ]
    },
    {
      "cell_type": "markdown",
      "source": [
        "###Inheritance\n",
        "**Inheritance**: Inheritance is a mechanism where a new class (derived or child class) inherits properties and behaviors (attributes and methods) from an existing class (base or parent class). This promotes code reusability and helps create a hierarchy.\n",
        "Types of Inheritance:\n",
        "\n",
        "Single Inheritance: A child class inherits from one parent class.\n",
        "Multiple Inheritance: A child class inherits from more than one parent class.\n",
        "Multilevel Inheritance: A child class inherits from a parent class, which in turn inherits from another parent class."
      ],
      "metadata": {
        "id": "ySz2l67rxROk"
      }
    },
    {
      "cell_type": "code",
      "source": [
        "class A:\n",
        "  def Print(self):\n",
        "    print(\"from first class\")\n",
        "\n",
        "class B(A):\n",
        "  def PrintB(self):\n",
        "    print(\"from second class\")\n",
        "\n",
        "class C(B):\n",
        "  def PrintC(self):\n",
        "    print(\"from third class\")\n",
        "\n",
        "cc=C()\n",
        "cc.Print()\n",
        "cc.PrintB()"
      ],
      "metadata": {
        "colab": {
          "base_uri": "https://localhost:8080/"
        },
        "id": "IB_e91hsxV4L",
        "outputId": "b87a4c67-2c91-476d-a9a4-7955d0bf18a2"
      },
      "execution_count": null,
      "outputs": [
        {
          "output_type": "stream",
          "name": "stdout",
          "text": [
            "from first class\n",
            "from second class\n"
          ]
        }
      ]
    },
    {
      "cell_type": "markdown",
      "source": [
        "###Polymorphism\n",
        "**Polymorphism**: Polymorphism means “many forms.” It allows methods or functions to use objects of different types through a common interface, and it enables one method to work in multiple ways based on the input.\n",
        "Forms of Polymorphism:\n",
        "\n",
        "Method Overriding: Changing the implementation of a method in the child class that is already defined in the parent class.\n",
        "Method Overloading: Using the same function name with different parameters (Python does not directly support method overloading but uses default arguments or *args)."
      ],
      "metadata": {
        "id": "US4Yrwg54O8q"
      }
    },
    {
      "cell_type": "code",
      "source": [
        "class car:\n",
        "  def wheel(self):\n",
        "    print(\"cars have 4 wheels\")\n",
        "\n",
        "class bike:\n",
        "  def wheel(self):\n",
        "    print(\"bikes have two wheels\")\n",
        "\n",
        "def poly(vech):\n",
        "  vech.wheel()\n",
        "\n",
        "poly(car())\n",
        "poly(bike())"
      ],
      "metadata": {
        "colab": {
          "base_uri": "https://localhost:8080/"
        },
        "id": "TFeZC7V_4dLH",
        "outputId": "f7fa1d15-f2f6-46af-ede3-ce6d3b88a283"
      },
      "execution_count": null,
      "outputs": [
        {
          "output_type": "stream",
          "name": "stdout",
          "text": [
            "cars have 4 wheels\n",
            "bikes have two wheels\n"
          ]
        }
      ]
    },
    {
      "cell_type": "markdown",
      "source": [
        "###Abstraction\n",
        "**Abstraction**: Abstraction is the concept of hiding complex implementation details and showing only the necessary information to the user. It helps reduce complexity and increase efficiency.\n",
        "How to Implement Abstraction? In Python, we achieve abstraction using abstract base classes and the abc module."
      ],
      "metadata": {
        "id": "FnuUGizG5ZkM"
      }
    },
    {
      "cell_type": "code",
      "source": [
        "from abc import ABC, abstractmethod\n",
        "\n",
        "class shape(ABC):\n",
        "  @abstractmethod\n",
        "  def area(self):\n",
        "    pass\n",
        "\n",
        "\n",
        "class rect(shape):\n",
        "  def __init__(self,h,w):\n",
        "    self.w=w\n",
        "    self.h=h\n",
        "\n",
        "  def area(self):\n",
        "    print(self.h * self.w)\n",
        "rec=rect(5,10)\n",
        "rec.area()"
      ],
      "metadata": {
        "colab": {
          "base_uri": "https://localhost:8080/"
        },
        "id": "5PV8y8r45dEj",
        "outputId": "bf2732d4-cb99-4bd2-e47b-89d3e2ee7283"
      },
      "execution_count": null,
      "outputs": [
        {
          "output_type": "stream",
          "name": "stdout",
          "text": [
            "50\n"
          ]
        }
      ]
    }
  ]
}